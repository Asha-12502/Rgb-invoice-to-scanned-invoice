{
  "cells": [
    {
      "cell_type": "code",
      "execution_count": null,
      "id": "70e6790f",
      "metadata": {
        "id": "70e6790f"
      },
      "outputs": [],
      "source": [
        "import cv2\n",
        "import matplotlib.pyplot as plt\n",
        "import os\n",
        "import numpy as np\n",
        "import shutil"
      ]
    },
    {
      "cell_type": "code",
      "execution_count": null,
      "id": "379cc93f",
      "metadata": {
        "id": "379cc93f"
      },
      "outputs": [],
      "source": [
        "# Final function\n",
        "# convert bgr to gray\n",
        "# with otsu_threshold\n",
        "# use dilate \n",
        "# medianblur for removing noise\n",
        "# absdiff \n",
        "\n",
        "def scanned_invoice(image):\n",
        "    #print(image)\n",
        "    img = cv2.imread(image)\n",
        "    rgb_planes = cv2.split(img)\n",
        "    aft_abs = []\n",
        "    for plane in rgb_planes:\n",
        "        dilated_img = cv2.dilate(plane, np.ones((9,9), np.uint8))\n",
        "        bg_img = cv2.medianBlur(dilated_img, 21)\n",
        "        diff_img = 255 - cv2.absdiff(plane, bg_img)\n",
        "        aft_abs.append(diff_img)\n",
        "    shadow_re = cv2.merge(aft_abs)\n",
        "    gray = cv2.cvtColor(shadow_re,cv2.COLOR_BGR2GRAY)\n",
        "    result, thresh = cv2.threshold(gray, 0, 255, cv2.THRESH_BINARY + cv2.THRESH_OTSU)\n",
        "    # eroded_img = cv2.erode(thresh, np.ones((2,2), np.uint8))    # added\n",
        "    plt.figure(figsize=(5,5))  \n",
        "    plt.imshow(thresh,cmap='gray')\n",
        "    plt.show()\n",
        "    cv2.imwrite('output_f' +image.replace('/home/asha/Downloads/Batch4_Batch5_Data/',''), thresh)\n",
        "    #cv2.imwrite('scan_with_erode_'+image.replace('/home/asha/Downloads/Batch4_Batch5_Data/',''), eroded_img)\n",
        "    "
      ]
    },
    {
      "cell_type": "code",
      "execution_count": null,
      "id": "d19bac27",
      "metadata": {
        "scrolled": true,
        "id": "d19bac27"
      },
      "outputs": [],
      "source": [
        "input_final_function = os.listdir('/home/asha/Desktop/input_of_final_function')\n",
        "input_final_function"
      ]
    },
    {
      "cell_type": "code",
      "execution_count": null,
      "id": "a3086b18",
      "metadata": {
        "scrolled": true,
        "id": "a3086b18"
      },
      "outputs": [],
      "source": [
        "# trying out 500 images on final function for analysis\n",
        "\n",
        "for i in input_final_function:\n",
        "    scanned_invoice('/home/asha/Downloads/Batch4_Batch5_Data/'+i)"
      ]
    }
  ],
  "metadata": {
    "kernelspec": {
      "display_name": "Python 3 (ipykernel)",
      "language": "python",
      "name": "python3"
    },
    "language_info": {
      "codemirror_mode": {
        "name": "ipython",
        "version": 3
      },
      "file_extension": ".py",
      "mimetype": "text/x-python",
      "name": "python",
      "nbconvert_exporter": "python",
      "pygments_lexer": "ipython3",
      "version": "3.9.12"
    },
    "colab": {
      "provenance": []
    }
  },
  "nbformat": 4,
  "nbformat_minor": 5
}